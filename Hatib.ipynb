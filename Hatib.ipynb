{
 "cells": [
  {
   "cell_type": "code",
   "execution_count": 29,
   "metadata": {
    "collapsed": false
   },
   "outputs": [
    {
     "name": "stdout",
     "output_type": "stream",
     "text": [
      "my name is Hatib my national is Pakistan my city is Karachi my age is 11\n"
     ]
    }
   ],
   "source": [
    "name =\"Hatib\"\n",
    "national = \"Pakistan\"\n",
    "city = \"Karachi\"\n",
    "age = \"11\"\n",
    "print (\"my name is \"+name, \"my national is \"+national, \"my city is \"+city, \"my age is \"+age)"
   ]
  },
  {
   "cell_type": "code",
   "execution_count": 55,
   "metadata": {
    "collapsed": false
   },
   "outputs": [
    {
     "name": "stdout",
     "output_type": "stream",
     "text": [
      "my weight is  200 my age is  20\n"
     ]
    }
   ],
   "source": [
    "weight = 200\n",
    "age = 20\n",
    "print (\"my weight is \",weight, \"my age is \",age)"
   ]
  },
  {
   "cell_type": "code",
   "execution_count": 39,
   "metadata": {
    "collapsed": false
   },
   "outputs": [
    {
     "name": "stdout",
     "output_type": "stream",
     "text": [
      "52.5\n"
     ]
    }
   ],
   "source": [
    "x =\"5\"\n",
    "y =10.5\n",
    "z =int(x)*y\n",
    "print(z)"
   ]
  },
  {
   "cell_type": "code",
   "execution_count": 31,
   "metadata": {
    "collapsed": false
   },
   "outputs": [
    {
     "name": "stdout",
     "output_type": "stream",
     "text": [
      "please type any table: 5\n",
      "5 x 5 = 25\n",
      "5 x 6 = 30\n",
      "5 x 7 = 35\n",
      "5 x 8 = 40\n",
      "5 x 9 = 45\n",
      "5 x 10 = 50\n",
      "5 x 11 = 55\n"
     ]
    }
   ],
   "source": [
    "a = int(input(\"please type any table: \"))\n",
    "for m in range(5,12):\n",
    "    print(f\"{a} x {m} = {a*m}\")"
   ]
  },
  {
   "cell_type": "code",
   "execution_count": 37,
   "metadata": {
    "collapsed": false
   },
   "outputs": [
    {
     "name": "stdout",
     "output_type": "stream",
     "text": [
      "please type any number: 4\n",
      "4 + 1 = 5\n",
      "4 + 2 = 6\n",
      "4 + 3 = 7\n",
      "4 + 4 = 8\n",
      "4 + 5 = 9\n",
      "4 + 6 = 10\n",
      "4 + 7 = 11\n",
      "4 + 8 = 12\n",
      "4 + 9 = 13\n",
      "4 + 10 = 14\n",
      "4 + 11 = 15\n"
     ]
    }
   ],
   "source": [
    "a = int(input(\"please type any number: \"))\n",
    "for m in range(1,12):\n",
    "    print(f\"{a} + {m} = {a+m}\")"
   ]
  },
  {
   "cell_type": "code",
   "execution_count": 43,
   "metadata": {
    "collapsed": false
   },
   "outputs": [
    {
     "name": "stdout",
     "output_type": "stream",
     "text": [
      "my name is Hatib\n",
      "my national is Pakistan\n",
      "my city is Karachi\n",
      "my age is 11\n",
      "my weight is 30\n"
     ]
    }
   ],
   "source": [
    "name =\"Hatib\"\n",
    "national =\"Pakistan\"\n",
    "city =\"Karachi\"\n",
    "age =\"11\"\n",
    "weight =\"30\"\n",
    "print(f\"my name is {name}\\nmy national is {national}\\nmy city is {city}\\nmy age is {age}\\nmy weight is {weight}\")\n"
   ]
  },
  {
   "cell_type": "code",
   "execution_count": 44,
   "metadata": {
    "collapsed": false
   },
   "outputs": [
    {
     "ename": "SyntaxError",
     "evalue": "invalid syntax (<ipython-input-44-0cbfb640507a>, line 1)",
     "output_type": "error",
     "traceback": [
      "\u001b[0;36m  File \u001b[0;32m\"<ipython-input-44-0cbfb640507a>\"\u001b[0;36m, line \u001b[0;32m1\u001b[0m\n\u001b[0;31m    my name syed  + my class 5\u001b[0m\n\u001b[0m          ^\u001b[0m\n\u001b[0;31mSyntaxError\u001b[0m\u001b[0;31m:\u001b[0m invalid syntax\n"
     ]
    }
   ],
   "source": []
  },
  {
   "cell_type": "code",
   "execution_count": null,
   "metadata": {
    "collapsed": true
   },
   "outputs": [],
   "source": [
    "\n"
   ]
  }
 ],
 "metadata": {
  "kernelspec": {
   "display_name": "Python 3",
   "language": "python",
   "name": "python3"
  },
  "language_info": {
   "codemirror_mode": {
    "name": "ipython",
    "version": 3
   },
   "file_extension": ".py",
   "mimetype": "text/x-python",
   "name": "python",
   "nbconvert_exporter": "python",
   "pygments_lexer": "ipython3",
   "version": "3.6.0"
  }
 },
 "nbformat": 4,
 "nbformat_minor": 2
}
